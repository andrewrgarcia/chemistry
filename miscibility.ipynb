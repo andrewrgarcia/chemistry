{
 "cells": [
  {
   "cell_type": "markdown",
   "metadata": {},
   "source": [
    "# Obtain solvent miscibilities from miscibility charts\n",
    "### Andrew Garcia"
   ]
  },
  {
   "cell_type": "markdown",
   "metadata": {},
   "source": [
    "<img src=\"miscibility.png\" alt=\"drawing\" width=\"400\"/></a>"
   ]
  },
  {
   "cell_type": "markdown",
   "metadata": {},
   "source": [
    "Download miscibility.csv* from my Github repository and place it somewhere it can be easily accessible. Then define the path where you placed the file. In my case it was the following:"
   ]
  },
  {
   "cell_type": "markdown",
   "metadata": {},
   "source": [
    "*Chart values in miscibility.csv were obtained from:\n",
    "'http://www.scharlab.com/tabla-reactivos-mezclabilidad.php'"
   ]
  },
  {
   "cell_type": "code",
   "execution_count": 3,
   "metadata": {},
   "outputs": [],
   "source": [
    "path =r'C:\\Users\\garci\\Desktop\\miscibility.csv'"
   ]
  },
  {
   "cell_type": "markdown",
   "metadata": {},
   "source": [
    "You may then retrieve all information therein as a database using the pandas module:"
   ]
  },
  {
   "cell_type": "code",
   "execution_count": 4,
   "metadata": {},
   "outputs": [],
   "source": [
    "import pandas\n",
    "df = pandas.read_csv(path)"
   ]
  },
  {
   "cell_type": "markdown",
   "metadata": {},
   "source": [
    "Printing it will give you a long list so let's not do that at this moment. \n",
    "\n",
    "The script below is very self-explanatory; it allows you to select two solvents and determine whether or not they are miscible (index 1 is miscible, 0 immiscible). As miscibility tables typically have information in the lower diagonal triangle, the script transposes the table if the column search happens to fall in the upper triangle:"
   ]
  },
  {
   "cell_type": "code",
   "execution_count": 6,
   "metadata": {},
   "outputs": [],
   "source": [
    "def determine(i1,i2):\n",
    "    i1= int(i1)\n",
    "    i2=int(i2)\n",
    "    \n",
    "    name1 = df.iloc[i1][0]\n",
    "    name2 = df.iloc[i2][0]\n",
    "    \n",
    "    \n",
    "    str1 = name1 + ' and ' + name2 + ' are '\n",
    "    \n",
    "    if df[name1][i2] == 0 or df[name1][i2] == 1:\n",
    "        display = str1+'miscible' if df[name1][i2] == 1 else str1+'immiscible' \\\n",
    "        if df[name1][i2] == 1 else None\n",
    "    else:\n",
    "        dft = df.transpose()\n",
    "        display = str1+'miscible' if dft[i1][name2] == 1 else str1+'immiscible' \\\n",
    "        if dft[i1][name2] == 1 else None\n",
    "    \n",
    "    print()\n",
    "    print(display)"
   ]
  },
  {
   "cell_type": "markdown",
   "metadata": {},
   "source": [
    "The execution should be the following. You may input your solvents by running the lines below:"
   ]
  },
  {
   "cell_type": "code",
   "execution_count": 5,
   "metadata": {},
   "outputs": [
    {
     "name": "stdout",
     "output_type": "stream",
     "text": [
      "0               acetic acid\n",
      "1                   acetone\n",
      "2              acetonitrile\n",
      "3                   benzene\n",
      "4                n -butanol\n",
      "5             butyl acetate\n",
      "6      carbon tetrachloride\n",
      "7                chloroform\n",
      "8               cyclohexane\n",
      "9        1,2-dichloroethane\n",
      "10          dichloromethane\n",
      "11        dimethylformamide\n",
      "12       dimethyl sulfoxide\n",
      "13                  dioxane\n",
      "14                  ethanol\n",
      "15            ethyl acetate\n",
      "16            diethyl ether\n",
      "17                  heptane\n",
      "18                   hexane\n",
      "19                 methanol\n",
      "20    methyl-t -butyl ether\n",
      "21               2-butanone\n",
      "22                  pentane\n",
      "23              n -propanol\n",
      "24              isopropanol\n",
      "25        diisopropyl ether\n",
      "26          tetrahydrofuran\n",
      "27                  toluene\n",
      "28        trichloroethylene\n",
      "29                    water\n",
      "30                   xylene\n",
      "31                      NaN\n",
      "Name: Name, dtype: object\n",
      "Choose first solvent (type index number): 12\n",
      "Choose second solvent (type index number): 7\n"
     ]
    },
    {
     "ename": "NameError",
     "evalue": "name 'determine' is not defined",
     "output_type": "error",
     "traceback": [
      "\u001b[1;31m---------------------------------------------------------------------------\u001b[0m",
      "\u001b[1;31mNameError\u001b[0m                                 Traceback (most recent call last)",
      "\u001b[1;32m<ipython-input-5-6df85aae1967>\u001b[0m in \u001b[0;36m<module>\u001b[1;34m\u001b[0m\n\u001b[0;32m      3\u001b[0m \u001b[0mi2\u001b[0m\u001b[1;33m=\u001b[0m\u001b[0minput\u001b[0m\u001b[1;33m(\u001b[0m\u001b[1;34m'Choose second solvent (type index number): '\u001b[0m\u001b[1;33m)\u001b[0m\u001b[1;33m\u001b[0m\u001b[1;33m\u001b[0m\u001b[0m\n\u001b[0;32m      4\u001b[0m \u001b[1;33m\u001b[0m\u001b[0m\n\u001b[1;32m----> 5\u001b[1;33m \u001b[0mdetermine\u001b[0m\u001b[1;33m(\u001b[0m\u001b[0mi1\u001b[0m\u001b[1;33m,\u001b[0m\u001b[0mi2\u001b[0m\u001b[1;33m)\u001b[0m\u001b[1;33m\u001b[0m\u001b[1;33m\u001b[0m\u001b[0m\n\u001b[0m",
      "\u001b[1;31mNameError\u001b[0m: name 'determine' is not defined"
     ]
    }
   ],
   "source": [
    "print(df['Name'])      \n",
    "i1=input('Choose first solvent (type index number): ')\n",
    "i2=input('Choose second solvent (type index number): ')\n",
    "\n",
    "determine(i1,i2)"
   ]
  },
  {
   "cell_type": "code",
   "execution_count": null,
   "metadata": {},
   "outputs": [],
   "source": []
  }
 ],
 "metadata": {
  "kernelspec": {
   "display_name": "Python 3",
   "language": "python",
   "name": "python3"
  },
  "language_info": {
   "codemirror_mode": {
    "name": "ipython",
    "version": 3
   },
   "file_extension": ".py",
   "mimetype": "text/x-python",
   "name": "python",
   "nbconvert_exporter": "python",
   "pygments_lexer": "ipython3",
   "version": "3.7.3"
  }
 },
 "nbformat": 4,
 "nbformat_minor": 2
}
