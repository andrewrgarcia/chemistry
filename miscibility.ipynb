{
 "cells": [
  {
   "cell_type": "markdown",
   "metadata": {},
   "source": [
    "# Obtain solvent miscibilities from miscibility charts\n",
    "### Andrew Garcia"
   ]
  },
  {
   "cell_type": "markdown",
   "metadata": {},
   "source": [
    "Download miscibility.csv* from my Github repository (/chemistry) and place it somewhere it can be easily accessible. Then define the path where you placed the file. In my case it was the following:"
   ]
  },
  {
   "cell_type": "markdown",
   "metadata": {},
   "source": [
    "*Chart values in miscibility.csv were obtained from:\n",
    "'http://www.scharlab.com/tabla-reactivos-mezclabilidad.php'"
   ]
  },
  {
   "cell_type": "code",
   "execution_count": 1,
   "metadata": {},
   "outputs": [],
   "source": [
    "path =r'C:\\Users\\garci\\Desktop\\miscibility.csv'"
   ]
  },
  {
   "cell_type": "markdown",
   "metadata": {},
   "source": [
    "You may then retrieve all information therein as a database using the pandas module:"
   ]
  },
  {
   "cell_type": "code",
   "execution_count": 2,
   "metadata": {},
   "outputs": [],
   "source": [
    "import pandas\n",
    "df = pandas.read_csv(path)"
   ]
  },
  {
   "cell_type": "markdown",
   "metadata": {},
   "source": [
    "Printing it will give you a long list of 0s and 1s (index 1 indicates system is miscible, 0 immiscible)\n",
    "\n"
   ]
  },
  {
   "cell_type": "code",
   "execution_count": 5,
   "metadata": {},
   "outputs": [
    {
     "name": "stdout",
     "output_type": "stream",
     "text": [
      "                     Name  acetic acid  acetone  acetonitrile  benzene  \\\n",
      "0             acetic acid          NaN      NaN           NaN      NaN   \n",
      "1                 acetone          1.0      NaN           NaN      NaN   \n",
      "2            acetonitrile          1.0      1.0           NaN      NaN   \n",
      "3                 benzene          1.0      1.0           1.0      NaN   \n",
      "4              n -butanol          1.0      1.0           1.0      1.0   \n",
      "5           butyl acetate          1.0      1.0           1.0      1.0   \n",
      "6    carbon tetrachloride          1.0      1.0           1.0      1.0   \n",
      "7              chloroform          1.0      1.0           1.0      1.0   \n",
      "8             cyclohexane          1.0      1.0           0.0      1.0   \n",
      "9      1,2-dichloroethane          1.0      1.0           1.0      1.0   \n",
      "10        dichloromethane          1.0      1.0           1.0      1.0   \n",
      "11      dimethylformamide          1.0      1.0           1.0      1.0   \n",
      "12     dimethyl sulfoxide          1.0      1.0           1.0      1.0   \n",
      "13                dioxane          1.0      1.0           1.0      1.0   \n",
      "14                ethanol          1.0      1.0           1.0      1.0   \n",
      "15          ethyl acetate          1.0      1.0           1.0      1.0   \n",
      "16          diethyl ether          1.0      1.0           1.0      1.0   \n",
      "17                heptane          1.0      1.0           0.0      1.0   \n",
      "18                 hexane          0.0      1.0           0.0      1.0   \n",
      "19               methanol          1.0      1.0           1.0      1.0   \n",
      "20  methyl-t -butyl ether          1.0      1.0           1.0      1.0   \n",
      "21             2-butanone          1.0      1.0           1.0      1.0   \n",
      "22                pentane          0.0      1.0           0.0      1.0   \n",
      "23            n -propanol          1.0      1.0           1.0      1.0   \n",
      "24            isopropanol          1.0      1.0           1.0      1.0   \n",
      "25      diisopropyl ether          1.0      1.0           1.0      1.0   \n",
      "26        tetrahydrofuran          1.0      1.0           1.0      1.0   \n",
      "27                toluene          1.0      1.0           1.0      1.0   \n",
      "28      trichloroethylene          1.0      1.0           1.0      1.0   \n",
      "29                  water          1.0      1.0           1.0      0.0   \n",
      "30                 xylene          1.0      1.0           1.0      1.0   \n",
      "31                    NaN          NaN      NaN           NaN      NaN   \n",
      "\n",
      "    n -butanol  butyl acetate  carbon tetrachloride  chloroform  cyclohexane  \\\n",
      "0          NaN            NaN                   NaN         NaN          NaN   \n",
      "1          NaN            NaN                   NaN         NaN          NaN   \n",
      "2          NaN            NaN                   NaN         NaN          NaN   \n",
      "3          NaN            NaN                   NaN         NaN          NaN   \n",
      "4          NaN            NaN                   NaN         NaN          NaN   \n",
      "5          1.0            NaN                   NaN         NaN          NaN   \n",
      "6          1.0            1.0                   NaN         NaN          NaN   \n",
      "7          1.0            1.0                   1.0         NaN          NaN   \n",
      "8          1.0            1.0                   1.0         1.0          NaN   \n",
      "9          1.0            1.0                   1.0         1.0          1.0   \n",
      "10         1.0            1.0                   1.0         1.0          1.0   \n",
      "11         1.0            1.0                   1.0         1.0          0.0   \n",
      "12         1.0            1.0                   1.0         1.0          0.0   \n",
      "13         1.0            1.0                   1.0         1.0          1.0   \n",
      "14         1.0            1.0                   1.0         1.0          1.0   \n",
      "15         1.0            1.0                   1.0         1.0          1.0   \n",
      "16         1.0            1.0                   1.0         1.0          1.0   \n",
      "17         1.0            1.0                   1.0         1.0          1.0   \n",
      "18         1.0            1.0                   1.0         1.0          1.0   \n",
      "19         1.0            1.0                   1.0         1.0          0.0   \n",
      "20         1.0            1.0                   1.0         1.0          1.0   \n",
      "21         1.0            1.0                   1.0         1.0          1.0   \n",
      "22         1.0            1.0                   1.0         1.0          1.0   \n",
      "23         1.0            1.0                   1.0         1.0          1.0   \n",
      "24         1.0            1.0                   1.0         1.0          1.0   \n",
      "25         1.0            1.0                   1.0         1.0          1.0   \n",
      "26         1.0            1.0                   1.0         1.0          1.0   \n",
      "27         1.0            1.0                   1.0         1.0          1.0   \n",
      "28         1.0            1.0                   1.0         1.0          1.0   \n",
      "29         0.0            0.0                   0.0         0.0          0.0   \n",
      "30         1.0            1.0                   1.0         1.0          1.0   \n",
      "31         NaN            NaN                   NaN         NaN          NaN   \n",
      "\n",
      "    ...  2-butanone  pentane  n -propanol  isopropanol  diisopropyl ether  \\\n",
      "0   ...         NaN      NaN          NaN          NaN                NaN   \n",
      "1   ...         NaN      NaN          NaN          NaN                NaN   \n",
      "2   ...         NaN      NaN          NaN          NaN                NaN   \n",
      "3   ...         NaN      NaN          NaN          NaN                NaN   \n",
      "4   ...         NaN      NaN          NaN          NaN                NaN   \n",
      "5   ...         NaN      NaN          NaN          NaN                NaN   \n",
      "6   ...         NaN      NaN          NaN          NaN                NaN   \n",
      "7   ...         NaN      NaN          NaN          NaN                NaN   \n",
      "8   ...         NaN      NaN          NaN          NaN                NaN   \n",
      "9   ...         NaN      NaN          NaN          NaN                NaN   \n",
      "10  ...         NaN      NaN          NaN          NaN                NaN   \n",
      "11  ...         NaN      NaN          NaN          NaN                NaN   \n",
      "12  ...         NaN      NaN          NaN          NaN                NaN   \n",
      "13  ...         NaN      NaN          NaN          NaN                NaN   \n",
      "14  ...         NaN      NaN          NaN          NaN                NaN   \n",
      "15  ...         NaN      NaN          NaN          NaN                NaN   \n",
      "16  ...         NaN      NaN          NaN          NaN                NaN   \n",
      "17  ...         NaN      NaN          NaN          NaN                NaN   \n",
      "18  ...         NaN      NaN          NaN          NaN                NaN   \n",
      "19  ...         NaN      NaN          NaN          NaN                NaN   \n",
      "20  ...         NaN      NaN          NaN          NaN                NaN   \n",
      "21  ...         NaN      NaN          NaN          NaN                NaN   \n",
      "22  ...         1.0      NaN          NaN          NaN                NaN   \n",
      "23  ...         1.0      1.0          NaN          NaN                NaN   \n",
      "24  ...         1.0      1.0          1.0          NaN                NaN   \n",
      "25  ...         1.0      1.0          1.0          1.0                NaN   \n",
      "26  ...         1.0      1.0          1.0          1.0                1.0   \n",
      "27  ...         1.0      1.0          1.0          1.0                1.0   \n",
      "28  ...         1.0      1.0          1.0          1.0                1.0   \n",
      "29  ...         0.0      0.0          1.0          1.0                0.0   \n",
      "30  ...         1.0      1.0          1.0          1.0                1.0   \n",
      "31  ...         NaN      NaN          NaN          NaN                NaN   \n",
      "\n",
      "    tetrahydrofuran  toluene  trichloroethylene  water  xylene  \n",
      "0               NaN      NaN                NaN    NaN     NaN  \n",
      "1               NaN      NaN                NaN    NaN     NaN  \n",
      "2               NaN      NaN                NaN    NaN     NaN  \n",
      "3               NaN      NaN                NaN    NaN     NaN  \n",
      "4               NaN      NaN                NaN    NaN     NaN  \n",
      "5               NaN      NaN                NaN    NaN     NaN  \n",
      "6               NaN      NaN                NaN    NaN     NaN  \n",
      "7               NaN      NaN                NaN    NaN     NaN  \n",
      "8               NaN      NaN                NaN    NaN     NaN  \n",
      "9               NaN      NaN                NaN    NaN     NaN  \n",
      "10              NaN      NaN                NaN    NaN     NaN  \n",
      "11              NaN      NaN                NaN    NaN     NaN  \n",
      "12              NaN      NaN                NaN    NaN     NaN  \n",
      "13              NaN      NaN                NaN    NaN     NaN  \n",
      "14              NaN      NaN                NaN    NaN     NaN  \n",
      "15              NaN      NaN                NaN    NaN     NaN  \n",
      "16              NaN      NaN                NaN    NaN     NaN  \n",
      "17              NaN      NaN                NaN    NaN     NaN  \n",
      "18              NaN      NaN                NaN    NaN     NaN  \n",
      "19              NaN      NaN                NaN    NaN     NaN  \n",
      "20              NaN      NaN                NaN    NaN     NaN  \n",
      "21              NaN      NaN                NaN    NaN     NaN  \n",
      "22              NaN      NaN                NaN    NaN     NaN  \n",
      "23              NaN      NaN                NaN    NaN     NaN  \n",
      "24              NaN      NaN                NaN    NaN     NaN  \n",
      "25              NaN      NaN                NaN    NaN     NaN  \n",
      "26              NaN      NaN                NaN    NaN     NaN  \n",
      "27              1.0      NaN                NaN    NaN     NaN  \n",
      "28              1.0      1.0                NaN    NaN     NaN  \n",
      "29              1.0      0.0                0.0    NaN     NaN  \n",
      "30              1.0      1.0                0.0    0.0     NaN  \n",
      "31              NaN      NaN                NaN    NaN     NaN  \n",
      "\n",
      "[32 rows x 32 columns]\n"
     ]
    }
   ],
   "source": [
    "print(df)"
   ]
  },
  {
   "cell_type": "markdown",
   "metadata": {},
   "source": [
    "The script below is very self-explanatory; it allows you to select two solvents and determine whether or not they are miscible. As miscibility tables typically have information in the lower diagonal triangle, the script transposes the table if the column search happens to fall in the upper triangle:"
   ]
  },
  {
   "cell_type": "code",
   "execution_count": 3,
   "metadata": {},
   "outputs": [],
   "source": [
    "def determine(i1,i2):\n",
    "    i1= int(i1)\n",
    "    i2=int(i2)\n",
    "    \n",
    "    name1 = df.iloc[i1][0]\n",
    "    name2 = df.iloc[i2][0]\n",
    "    \n",
    "    \n",
    "    str1 = name1 + ' and ' + name2 + ' are '\n",
    "    \n",
    "    if df[name1][i2] == 0 or df[name1][i2] == 1:\n",
    "        display = str1+'miscible' if df[name1][i2] == 1 else str1+'immiscible' \\\n",
    "        if df[name1][i2] == 1 else None\n",
    "    else:\n",
    "        dft = df.transpose()\n",
    "        display = str1+'miscible' if dft[i1][name2] == 1 else str1+'immiscible' \\\n",
    "        if dft[i1][name2] == 1 else None\n",
    "    \n",
    "    print()\n",
    "    print(display)"
   ]
  },
  {
   "cell_type": "markdown",
   "metadata": {},
   "source": [
    "The execution should be the following. You may input your solvents by running the lines below:"
   ]
  },
  {
   "cell_type": "code",
   "execution_count": 4,
   "metadata": {},
   "outputs": [
    {
     "name": "stdout",
     "output_type": "stream",
     "text": [
      "0               acetic acid\n",
      "1                   acetone\n",
      "2              acetonitrile\n",
      "3                   benzene\n",
      "4                n -butanol\n",
      "5             butyl acetate\n",
      "6      carbon tetrachloride\n",
      "7                chloroform\n",
      "8               cyclohexane\n",
      "9        1,2-dichloroethane\n",
      "10          dichloromethane\n",
      "11        dimethylformamide\n",
      "12       dimethyl sulfoxide\n",
      "13                  dioxane\n",
      "14                  ethanol\n",
      "15            ethyl acetate\n",
      "16            diethyl ether\n",
      "17                  heptane\n",
      "18                   hexane\n",
      "19                 methanol\n",
      "20    methyl-t -butyl ether\n",
      "21               2-butanone\n",
      "22                  pentane\n",
      "23              n -propanol\n",
      "24              isopropanol\n",
      "25        diisopropyl ether\n",
      "26          tetrahydrofuran\n",
      "27                  toluene\n",
      "28        trichloroethylene\n",
      "29                    water\n",
      "30                   xylene\n",
      "31                      NaN\n",
      "Name: Name, dtype: object\n",
      "Choose first solvent (type index number): 25\n",
      "Choose second solvent (type index number): 22\n",
      "\n",
      "diisopropyl ether and pentane are miscible\n"
     ]
    }
   ],
   "source": [
    "print(df['Name'])      \n",
    "i1=input('Choose first solvent (type index number): ')\n",
    "i2=input('Choose second solvent (type index number): ')\n",
    "\n",
    "determine(i1,i2)"
   ]
  },
  {
   "cell_type": "code",
   "execution_count": null,
   "metadata": {},
   "outputs": [],
   "source": []
  }
 ],
 "metadata": {
  "kernelspec": {
   "display_name": "Python 3",
   "language": "python",
   "name": "python3"
  },
  "language_info": {
   "codemirror_mode": {
    "name": "ipython",
    "version": 3
   },
   "file_extension": ".py",
   "mimetype": "text/x-python",
   "name": "python",
   "nbconvert_exporter": "python",
   "pygments_lexer": "ipython3",
   "version": "3.7.3"
  }
 },
 "nbformat": 4,
 "nbformat_minor": 2
}
